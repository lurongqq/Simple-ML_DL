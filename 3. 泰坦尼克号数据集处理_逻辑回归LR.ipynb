{
 "cells": [
  {
   "cell_type": "markdown",
   "id": "dab69e0e",
   "metadata": {},
   "source": [
    "## 泰坦尼克号数据集处理\n",
    "\n",
    "**什么样的人更有可能幸免遇难**"
   ]
  },
  {
   "cell_type": "markdown",
   "id": "0d14d71f",
   "metadata": {},
   "source": [
    "### 导入所需工具包&数据"
   ]
  },
  {
   "cell_type": "code",
   "execution_count": 1,
   "id": "42d86580",
   "metadata": {},
   "outputs": [],
   "source": [
    "#数据分析与可视化包\n",
    "import numpy as np\n",
    "import pandas as pd\n",
    "import seaborn as sns\n",
    "import matplotlib.pyplot as plt\n",
    "\n",
    "plt.rcParams['font.sans-serif']=['SimHei'] #用来正常显示中文标签\n",
    "plt.rcParams['axes.unicode_minus']=False #用来正常显示负号\n",
    "\n",
    "from sklearn.model_selection import learning_curve, train_test_split\n",
    "from sklearn.preprocessing import StandardScaler, PolynomialFeatures\n",
    "from sklearn.linear_model import LogisticRegression #逻辑回归\n",
    "from sklearn.metrics import roc_curve, auc, precision_recall_curve\n",
    "from sklearn.metrics import log_loss\n",
    "from sklearn.pipeline import make_pipeline\n",
    "\n",
    "from sklearn.metrics import accuracy_score, f1_score, precision_score, recall_score\n",
    "#accuracy_score,准确率\n",
    "#f1_score，精确率和召回率的调和平均数\n",
    "#precision_score，精确率\n",
    "#recall_score，召回率\n",
    "\n",
    "from sklearn.metrics import confusion_matrix, classification_report\n",
    "#confusion_matrix混淆矩阵\n",
    "#classification_report任务性能分析"
   ]
  },
  {
   "cell_type": "code",
   "execution_count": 2,
   "id": "e204b246",
   "metadata": {},
   "outputs": [],
   "source": [
    "Titanic_data=pd.read_csv(\"D:/project/Jupyter/csdn/AI_ML/datasets/Lesson3_Titanic.csv\")"
   ]
  },
  {
   "cell_type": "code",
   "execution_count": 3,
   "id": "b64e9436",
   "metadata": {},
   "outputs": [
    {
     "data": {
      "text/html": [
       "<div>\n",
       "<style scoped>\n",
       "    .dataframe tbody tr th:only-of-type {\n",
       "        vertical-align: middle;\n",
       "    }\n",
       "\n",
       "    .dataframe tbody tr th {\n",
       "        vertical-align: top;\n",
       "    }\n",
       "\n",
       "    .dataframe thead th {\n",
       "        text-align: right;\n",
       "    }\n",
       "</style>\n",
       "<table border=\"1\" class=\"dataframe\">\n",
       "  <thead>\n",
       "    <tr style=\"text-align: right;\">\n",
       "      <th></th>\n",
       "      <th>Passengerid</th>\n",
       "      <th>Age</th>\n",
       "      <th>Fare</th>\n",
       "      <th>Sex</th>\n",
       "      <th>sibsp</th>\n",
       "      <th>Parch</th>\n",
       "      <th>Pclass</th>\n",
       "      <th>Embarked</th>\n",
       "      <th>Survived</th>\n",
       "    </tr>\n",
       "  </thead>\n",
       "  <tbody>\n",
       "    <tr>\n",
       "      <th>0</th>\n",
       "      <td>1</td>\n",
       "      <td>22.0</td>\n",
       "      <td>7.2500</td>\n",
       "      <td>0</td>\n",
       "      <td>1</td>\n",
       "      <td>0</td>\n",
       "      <td>3</td>\n",
       "      <td>2.0</td>\n",
       "      <td>0</td>\n",
       "    </tr>\n",
       "    <tr>\n",
       "      <th>1</th>\n",
       "      <td>2</td>\n",
       "      <td>38.0</td>\n",
       "      <td>71.2833</td>\n",
       "      <td>1</td>\n",
       "      <td>1</td>\n",
       "      <td>0</td>\n",
       "      <td>1</td>\n",
       "      <td>0.0</td>\n",
       "      <td>1</td>\n",
       "    </tr>\n",
       "    <tr>\n",
       "      <th>2</th>\n",
       "      <td>3</td>\n",
       "      <td>26.0</td>\n",
       "      <td>7.9250</td>\n",
       "      <td>1</td>\n",
       "      <td>0</td>\n",
       "      <td>0</td>\n",
       "      <td>3</td>\n",
       "      <td>2.0</td>\n",
       "      <td>1</td>\n",
       "    </tr>\n",
       "    <tr>\n",
       "      <th>3</th>\n",
       "      <td>4</td>\n",
       "      <td>35.0</td>\n",
       "      <td>53.1000</td>\n",
       "      <td>1</td>\n",
       "      <td>1</td>\n",
       "      <td>0</td>\n",
       "      <td>1</td>\n",
       "      <td>2.0</td>\n",
       "      <td>1</td>\n",
       "    </tr>\n",
       "    <tr>\n",
       "      <th>4</th>\n",
       "      <td>5</td>\n",
       "      <td>35.0</td>\n",
       "      <td>8.0500</td>\n",
       "      <td>0</td>\n",
       "      <td>0</td>\n",
       "      <td>0</td>\n",
       "      <td>3</td>\n",
       "      <td>2.0</td>\n",
       "      <td>0</td>\n",
       "    </tr>\n",
       "    <tr>\n",
       "      <th>...</th>\n",
       "      <td>...</td>\n",
       "      <td>...</td>\n",
       "      <td>...</td>\n",
       "      <td>...</td>\n",
       "      <td>...</td>\n",
       "      <td>...</td>\n",
       "      <td>...</td>\n",
       "      <td>...</td>\n",
       "      <td>...</td>\n",
       "    </tr>\n",
       "    <tr>\n",
       "      <th>1304</th>\n",
       "      <td>1305</td>\n",
       "      <td>28.0</td>\n",
       "      <td>8.0500</td>\n",
       "      <td>0</td>\n",
       "      <td>0</td>\n",
       "      <td>0</td>\n",
       "      <td>3</td>\n",
       "      <td>2.0</td>\n",
       "      <td>0</td>\n",
       "    </tr>\n",
       "    <tr>\n",
       "      <th>1305</th>\n",
       "      <td>1306</td>\n",
       "      <td>39.0</td>\n",
       "      <td>108.9000</td>\n",
       "      <td>1</td>\n",
       "      <td>0</td>\n",
       "      <td>0</td>\n",
       "      <td>1</td>\n",
       "      <td>0.0</td>\n",
       "      <td>0</td>\n",
       "    </tr>\n",
       "    <tr>\n",
       "      <th>1306</th>\n",
       "      <td>1307</td>\n",
       "      <td>38.5</td>\n",
       "      <td>7.2500</td>\n",
       "      <td>0</td>\n",
       "      <td>0</td>\n",
       "      <td>0</td>\n",
       "      <td>3</td>\n",
       "      <td>2.0</td>\n",
       "      <td>0</td>\n",
       "    </tr>\n",
       "    <tr>\n",
       "      <th>1307</th>\n",
       "      <td>1308</td>\n",
       "      <td>28.0</td>\n",
       "      <td>8.0500</td>\n",
       "      <td>0</td>\n",
       "      <td>0</td>\n",
       "      <td>0</td>\n",
       "      <td>3</td>\n",
       "      <td>2.0</td>\n",
       "      <td>0</td>\n",
       "    </tr>\n",
       "    <tr>\n",
       "      <th>1308</th>\n",
       "      <td>1309</td>\n",
       "      <td>28.0</td>\n",
       "      <td>22.3583</td>\n",
       "      <td>0</td>\n",
       "      <td>1</td>\n",
       "      <td>1</td>\n",
       "      <td>3</td>\n",
       "      <td>0.0</td>\n",
       "      <td>0</td>\n",
       "    </tr>\n",
       "  </tbody>\n",
       "</table>\n",
       "<p>1309 rows × 9 columns</p>\n",
       "</div>"
      ],
      "text/plain": [
       "      Passengerid   Age      Fare  Sex  sibsp  Parch  Pclass  Embarked  \\\n",
       "0               1  22.0    7.2500    0      1      0       3       2.0   \n",
       "1               2  38.0   71.2833    1      1      0       1       0.0   \n",
       "2               3  26.0    7.9250    1      0      0       3       2.0   \n",
       "3               4  35.0   53.1000    1      1      0       1       2.0   \n",
       "4               5  35.0    8.0500    0      0      0       3       2.0   \n",
       "...           ...   ...       ...  ...    ...    ...     ...       ...   \n",
       "1304         1305  28.0    8.0500    0      0      0       3       2.0   \n",
       "1305         1306  39.0  108.9000    1      0      0       1       0.0   \n",
       "1306         1307  38.5    7.2500    0      0      0       3       2.0   \n",
       "1307         1308  28.0    8.0500    0      0      0       3       2.0   \n",
       "1308         1309  28.0   22.3583    0      1      1       3       0.0   \n",
       "\n",
       "      Survived  \n",
       "0            0  \n",
       "1            1  \n",
       "2            1  \n",
       "3            1  \n",
       "4            0  \n",
       "...        ...  \n",
       "1304         0  \n",
       "1305         0  \n",
       "1306         0  \n",
       "1307         0  \n",
       "1308         0  \n",
       "\n",
       "[1309 rows x 9 columns]"
      ]
     },
     "execution_count": 3,
     "metadata": {},
     "output_type": "execute_result"
    }
   ],
   "source": [
    "Titanic_data"
   ]
  },
  {
   "cell_type": "code",
   "execution_count": 4,
   "id": "0e8a8e1c",
   "metadata": {},
   "outputs": [
    {
     "name": "stdout",
     "output_type": "stream",
     "text": [
      "<class 'pandas.core.frame.DataFrame'>\n",
      "RangeIndex: 1309 entries, 0 to 1308\n",
      "Data columns (total 9 columns):\n",
      " #   Column       Non-Null Count  Dtype  \n",
      "---  ------       --------------  -----  \n",
      " 0   Passengerid  1309 non-null   int64  \n",
      " 1   Age          1309 non-null   float64\n",
      " 2   Fare         1309 non-null   float64\n",
      " 3   Sex          1309 non-null   int64  \n",
      " 4   sibsp        1309 non-null   int64  \n",
      " 5   Parch        1309 non-null   int64  \n",
      " 6   Pclass       1309 non-null   int64  \n",
      " 7   Embarked     1307 non-null   float64\n",
      " 8   Survived     1309 non-null   int64  \n",
      "dtypes: float64(3), int64(6)\n",
      "memory usage: 92.2 KB\n"
     ]
    }
   ],
   "source": [
    "Titanic_data.info()"
   ]
  },
  {
   "cell_type": "markdown",
   "id": "8b1a2ef0",
   "metadata": {},
   "source": [
    "### 数据预处理"
   ]
  },
  {
   "cell_type": "code",
   "execution_count": 5,
   "id": "dc5db389",
   "metadata": {},
   "outputs": [],
   "source": [
    "# 将 float 类型转换为 int 类型\n",
    "Titanic_data['Age'] = Titanic_data['Age'].astype('int64')\n",
    "Titanic_data['Fare'] = Titanic_data['Fare'].astype('int64')"
   ]
  },
  {
   "cell_type": "code",
   "execution_count": 6,
   "id": "e8235b93",
   "metadata": {},
   "outputs": [],
   "source": [
    "# 用众数填充 Embarked（登船地点）列缺失值\n",
    "Titanic_data['Embarked'].fillna(Titanic_data['Embarked'].mode()[0], inplace=True)"
   ]
  },
  {
   "cell_type": "code",
   "execution_count": 7,
   "id": "43000ff2",
   "metadata": {},
   "outputs": [],
   "source": [
    "# 将 float 类型转换为 int 类型\n",
    "Titanic_data['Embarked'] = Titanic_data['Embarked'].astype('int64')"
   ]
  },
  {
   "cell_type": "markdown",
   "id": "313f5769",
   "metadata": {},
   "source": [
    "### 绘制热力图"
   ]
  },
  {
   "cell_type": "code",
   "execution_count": 8,
   "id": "522ecb8a",
   "metadata": {},
   "outputs": [
    {
     "data": {
      "image/png": "[encoded data removed]",
      "text/plain": [
       "<Figure size 720x576 with 2 Axes>"
      ]
     },
     "metadata": {
      "needs_background": "light"
     },
     "output_type": "display_data"
    }
   ],
   "source": [
    "plt.figure(figsize=(10, 8))\n",
    "sns.heatmap(Titanic_data.corr(), annot=True, cmap='coolwarm')\n",
    "plt.title('Correlation Heatmap')\n",
    "plt.show()"
   ]
  },
  {
   "cell_type": "markdown",
   "id": "2ba95b65",
   "metadata": {},
   "source": [
    "### 数据拆分&标准化"
   ]
  },
  {
   "cell_type": "code",
   "execution_count": 9,
   "id": "e054bfb5",
   "metadata": {},
   "outputs": [],
   "source": [
    "# 特征选择\n",
    "X = Titanic_data.drop('Survived', axis=1)\n",
    "y = Titanic_data['Survived']"
   ]
  },
  {
   "cell_type": "code",
   "execution_count": 10,
   "id": "66fcbdff",
   "metadata": {},
   "outputs": [],
   "source": [
    "# 拆分数据集\n",
    "X_train, X_test, y_train, y_test = train_test_split(X, y, test_size=0.2, random_state=42)"
   ]
  },
  {
   "cell_type": "code",
   "execution_count": 11,
   "id": "a5062489",
   "metadata": {},
   "outputs": [],
   "source": [
    "# 标准化特征（可选，但推荐逻辑回归中进行特征缩放）\n",
    "scaler = StandardScaler()\n",
    "X_train_scaled = scaler.fit_transform(X_train)\n",
    "X_test_scaled = scaler.transform(X_test)"
   ]
  },
  {
   "cell_type": "markdown",
   "id": "0a970b6a",
   "metadata": {},
   "source": [
    "### 逻辑回归分类算法"
   ]
  },
  {
   "cell_type": "code",
   "execution_count": 12,
   "id": "f4bb20af",
   "metadata": {},
   "outputs": [
    {
     "data": {
      "text/plain": [
       "LogisticRegression(class_weight='balanced', max_iter=10000)"
      ]
     },
     "execution_count": 12,
     "metadata": {},
     "output_type": "execute_result"
    }
   ],
   "source": [
    "# 使用 scikit-learn 的逻辑回归模型\n",
    "model = LogisticRegression(\n",
    "    max_iter=10000,\n",
    "    penalty='l2',\n",
    "    #C=0.1,\n",
    "    #solver='liblinear',\n",
    "    class_weight=\"balanced\"\n",
    "    )\n",
    "model.fit(X_train, y_train)"
   ]
  },
  {
   "cell_type": "code",
   "execution_count": 13,
   "id": "dc0aebe1",
   "metadata": {},
   "outputs": [],
   "source": [
    "# 预测\n",
    "y_pred_test = model.predict(X_test)"
   ]
  },
  {
   "cell_type": "code",
   "execution_count": 15,
   "id": "65e98839",
   "metadata": {},
   "outputs": [
    {
     "name": "stdout",
     "output_type": "stream",
     "text": [
      "              precision    recall  f1-score   support\n",
      "\n",
      "           0       0.91      0.77      0.83       189\n",
      "           1       0.57      0.79      0.67        73\n",
      "\n",
      "    accuracy                           0.78       262\n",
      "   macro avg       0.74      0.78      0.75       262\n",
      "weighted avg       0.81      0.78      0.79       262\n",
      "\n"
     ]
    }
   ],
   "source": [
    "print(classification_report(y_test,y_pred_test))"
   ]
  },
  {
   "cell_type": "code",
   "execution_count": 16,
   "id": "91d94bd5",
   "metadata": {},
   "outputs": [],
   "source": [
    "y_pred_train = model.predict(X_train)"
   ]
  },
  {
   "cell_type": "code",
   "execution_count": 17,
   "id": "468c41a1",
   "metadata": {},
   "outputs": [
    {
     "name": "stdout",
     "output_type": "stream",
     "text": [
      "              precision    recall  f1-score   support\n",
      "\n",
      "           0       0.91      0.78      0.84       778\n",
      "           1       0.55      0.76      0.64       269\n",
      "\n",
      "    accuracy                           0.78      1047\n",
      "   macro avg       0.73      0.77      0.74      1047\n",
      "weighted avg       0.81      0.78      0.79      1047\n",
      "\n"
     ]
    }
   ],
   "source": [
    "print(classification_report(y_train,y_pred_train))"
   ]
  },
  {
   "cell_type": "code",
   "execution_count": 18,
   "id": "fcf4111c",
   "metadata": {},
   "outputs": [
    {
     "data": {
      "text/plain": [
       "array([[610, 168],\n",
       "       [ 64, 205]], dtype=int64)"
      ]
     },
     "execution_count": 18,
     "metadata": {},
     "output_type": "execute_result"
    }
   ],
   "source": [
    "confusion_matrix(y_train,y_pred_train)#生成混淆矩阵"
   ]
  },
  {
   "cell_type": "code",
   "execution_count": 19,
   "id": "ad729528",
   "metadata": {},
   "outputs": [
    {
     "data": {
      "text/plain": [
       "<AxesSubplot:>"
      ]
     },
     "execution_count": 19,
     "metadata": {},
     "output_type": "execute_result"
    },
    {
     "data": {
      "image/png": "[encoded data removed]",
      "text/plain": [
       "<Figure size 432x288 with 2 Axes>"
      ]
     },
     "metadata": {
      "needs_background": "light"
     },
     "output_type": "display_data"
    }
   ],
   "source": [
    "#画热力图\n",
    "sns.heatmap(confusion_matrix(y_test,y_pred_test),annot=True,fmt=\"d\")"
   ]
  },
  {
   "cell_type": "code",
   "execution_count": 20,
   "id": "ad638e32",
   "metadata": {},
   "outputs": [
    {
     "data": {
      "text/plain": [
       "0.7786259541984732"
      ]
     },
     "execution_count": 20,
     "metadata": {},
     "output_type": "execute_result"
    }
   ],
   "source": [
    "accuracy_score(y_pred_test,y_test)#准确率"
   ]
  },
  {
   "cell_type": "code",
   "execution_count": 21,
   "id": "0dfc46e1",
   "metadata": {},
   "outputs": [
    {
     "data": {
      "text/plain": [
       "0.6666666666666666"
      ]
     },
     "execution_count": 21,
     "metadata": {},
     "output_type": "execute_result"
    }
   ],
   "source": [
    "f1_score(y_pred_test,y_test)#精确率和召回率的调和平均数"
   ]
  },
  {
   "cell_type": "code",
   "execution_count": 22,
   "id": "9a9de94d",
   "metadata": {},
   "outputs": [
    {
     "data": {
      "text/plain": [
       "0.7724867724867724"
      ]
     },
     "execution_count": 22,
     "metadata": {},
     "output_type": "execute_result"
    }
   ],
   "source": [
    "# 从负类，计算模型精确率和召回率\n",
    "precision_score(y_pred_test,y_test,pos_label=0)#精确率"
   ]
  },
  {
   "cell_type": "code",
   "execution_count": 23,
   "id": "32b98742",
   "metadata": {},
   "outputs": [
    {
     "data": {
      "text/plain": [
       "0.906832298136646"
      ]
     },
     "execution_count": 23,
     "metadata": {},
     "output_type": "execute_result"
    }
   ],
   "source": [
    "recall_score(y_pred_test,y_test,pos_label=0)#召回率"
   ]
  },
  {
   "cell_type": "code",
   "execution_count": 24,
   "id": "ce619f67",
   "metadata": {},
   "outputs": [
    {
     "name": "stdout",
     "output_type": "stream",
     "text": [
      "[[-3.10234860e-03 -3.18906621e-02  3.87032028e-04  2.04439845e+00\n",
      "  -3.41696663e-01  5.48257566e-03 -9.40158683e-01 -1.44452120e-01]]\n"
     ]
    }
   ],
   "source": [
    "print(model.coef_)"
   ]
  },
  {
   "cell_type": "code",
   "execution_count": 25,
   "id": "27650946",
   "metadata": {},
   "outputs": [
    {
     "name": "stdout",
     "output_type": "stream",
     "text": [
      "[4.22305143]\n"
     ]
    }
   ],
   "source": [
    "print(model.intercept_)"
   ]
  },
  {
   "cell_type": "code",
   "execution_count": 26,
   "id": "a24890da",
   "metadata": {},
   "outputs": [
    {
     "name": "stdout",
     "output_type": "stream",
     "text": [
      "             Coefficient\n",
      "Passengerid    -0.003102\n",
      "Age            -0.031891\n",
      "Fare            0.000387\n",
      "Sex             2.044398\n",
      "sibsp          -0.341697\n",
      "Parch           0.005483\n",
      "Pclass         -0.940159\n",
      "Embarked       -0.144452\n"
     ]
    }
   ],
   "source": [
    "# 显示模型系数\n",
    "coefficients = pd.DataFrame(model.coef_.flatten(), index=X.columns, columns=['Coefficient'])\n",
    "print(coefficients)"
   ]
  },
  {
   "cell_type": "code",
   "execution_count": 27,
   "id": "dca5abe5",
   "metadata": {},
   "outputs": [
    {
     "data": {
      "text/plain": [
       "<AxesSubplot:>"
      ]
     },
     "execution_count": 27,
     "metadata": {},
     "output_type": "execute_result"
    },
    {
     "data": {
      "image/png": "[encoded data removed]",
      "text/plain": [
       "<Figure size 432x288 with 1 Axes>"
      ]
     },
     "metadata": {
      "needs_background": "light"
     },
     "output_type": "display_data"
    }
   ],
   "source": [
    "pd.DataFrame(model.coef_,columns=X.columns).T.plot(kind=\"barh\")#显示系数大小"
   ]
  },
  {
   "cell_type": "code",
   "execution_count": 28,
   "id": "eeed99f1",
   "metadata": {},
   "outputs": [
    {
     "data": {
      "text/plain": [
       "array([[0.96580127, 0.03419873],\n",
       "       [0.83101284, 0.16898716],\n",
       "       [0.94407356, 0.05592644],\n",
       "       [0.84483793, 0.15516207],\n",
       "       [0.78551783, 0.21448217],\n",
       "       [0.18692877, 0.81307123],\n",
       "       [0.74254446, 0.25745554],\n",
       "       [0.2032734 , 0.7967266 ],\n",
       "       [0.7163385 , 0.2836615 ],\n",
       "       [0.50638135, 0.49361865],\n",
       "       [0.975473  , 0.024527  ],\n",
       "       [0.96755622, 0.03244378],\n",
       "       [0.81917859, 0.18082141],\n",
       "       [0.29965241, 0.70034759],\n",
       "       [0.94602736, 0.05397264],\n",
       "       [0.47556876, 0.52443124],\n",
       "       [0.82354381, 0.17645619],\n",
       "       [0.95569124, 0.04430876],\n",
       "       [0.47627269, 0.52372731],\n",
       "       [0.85410499, 0.14589501],\n",
       "       [0.94110641, 0.05889359],\n",
       "       [0.42914158, 0.57085842],\n",
       "       [0.95247526, 0.04752474],\n",
       "       [0.7574298 , 0.2425702 ],\n",
       "       [0.91813644, 0.08186356],\n",
       "       [0.44302977, 0.55697023],\n",
       "       [0.77517103, 0.22482897],\n",
       "       [0.72188054, 0.27811946],\n",
       "       [0.92118708, 0.07881292],\n",
       "       [0.16597776, 0.83402224],\n",
       "       [0.80938436, 0.19061564],\n",
       "       [0.10205808, 0.89794192],\n",
       "       [0.66804658, 0.33195342],\n",
       "       [0.55381988, 0.44618012],\n",
       "       [0.41371742, 0.58628258],\n",
       "       [0.97283522, 0.02716478],\n",
       "       [0.10465035, 0.89534965],\n",
       "       [0.50419077, 0.49580923],\n",
       "       [0.50385968, 0.49614032],\n",
       "       [0.07755415, 0.92244585],\n",
       "       [0.52422842, 0.47577158],\n",
       "       [0.35671896, 0.64328104],\n",
       "       [0.21440928, 0.78559072],\n",
       "       [0.95642548, 0.04357452],\n",
       "       [0.86573671, 0.13426329],\n",
       "       [0.97077077, 0.02922923],\n",
       "       [0.99193298, 0.00806702],\n",
       "       [0.87259457, 0.12740543],\n",
       "       [0.34716045, 0.65283955],\n",
       "       [0.45982681, 0.54017319],\n",
       "       [0.07177735, 0.92822265],\n",
       "       [0.34534262, 0.65465738],\n",
       "       [0.62906172, 0.37093828],\n",
       "       [0.13812712, 0.86187288],\n",
       "       [0.24671102, 0.75328898],\n",
       "       [0.79375414, 0.20624586],\n",
       "       [0.47831261, 0.52168739],\n",
       "       [0.10970058, 0.89029942],\n",
       "       [0.88070732, 0.11929268],\n",
       "       [0.94519523, 0.05480477],\n",
       "       [0.37053633, 0.62946367],\n",
       "       [0.82302063, 0.17697937],\n",
       "       [0.092076  , 0.907924  ],\n",
       "       [0.39699191, 0.60300809],\n",
       "       [0.03135522, 0.96864478],\n",
       "       [0.1150525 , 0.8849475 ],\n",
       "       [0.02103941, 0.97896059],\n",
       "       [0.18332605, 0.81667395],\n",
       "       [0.89875616, 0.10124384],\n",
       "       [0.94222745, 0.05777255],\n",
       "       [0.52323269, 0.47676731],\n",
       "       [0.36824205, 0.63175795],\n",
       "       [0.77068348, 0.22931652],\n",
       "       [0.88518833, 0.11481167],\n",
       "       [0.55721532, 0.44278468],\n",
       "       [0.74465564, 0.25534436],\n",
       "       [0.50852234, 0.49147766],\n",
       "       [0.7488184 , 0.2511816 ],\n",
       "       [0.06368998, 0.93631002],\n",
       "       [0.58283948, 0.41716052],\n",
       "       [0.10014008, 0.89985992],\n",
       "       [0.96077586, 0.03922414],\n",
       "       [0.64413625, 0.35586375],\n",
       "       [0.8602818 , 0.1397182 ],\n",
       "       [0.94454375, 0.05545625],\n",
       "       [0.74108652, 0.25891348],\n",
       "       [0.65075087, 0.34924913],\n",
       "       [0.65179117, 0.34820883],\n",
       "       [0.07044632, 0.92955368],\n",
       "       [0.13457118, 0.86542882],\n",
       "       [0.09030514, 0.90969486],\n",
       "       [0.26452722, 0.73547278],\n",
       "       [0.90849172, 0.09150828],\n",
       "       [0.70982154, 0.29017846],\n",
       "       [0.51551186, 0.48448814],\n",
       "       [0.58365762, 0.41634238],\n",
       "       [0.57532015, 0.42467985],\n",
       "       [0.21886182, 0.78113818],\n",
       "       [0.11734935, 0.88265065],\n",
       "       [0.37120327, 0.62879673],\n",
       "       [0.58472174, 0.41527826],\n",
       "       [0.9552979 , 0.0447021 ],\n",
       "       [0.95476249, 0.04523751],\n",
       "       [0.48070509, 0.51929491],\n",
       "       [0.48097   , 0.51903   ],\n",
       "       [0.94571206, 0.05428794],\n",
       "       [0.08509048, 0.91490952],\n",
       "       [0.92669697, 0.07330303],\n",
       "       [0.93067335, 0.06932665],\n",
       "       [0.14246996, 0.85753004],\n",
       "       [0.79739652, 0.20260348],\n",
       "       [0.25277441, 0.74722559],\n",
       "       [0.83575352, 0.16424648],\n",
       "       [0.8782755 , 0.1217245 ],\n",
       "       [0.02905706, 0.97094294],\n",
       "       [0.96323026, 0.03676974],\n",
       "       [0.64334538, 0.35665462],\n",
       "       [0.2538545 , 0.7461455 ],\n",
       "       [0.95302618, 0.04697382],\n",
       "       [0.78619506, 0.21380494],\n",
       "       [0.92206408, 0.07793592],\n",
       "       [0.0312056 , 0.9687944 ],\n",
       "       [0.57725395, 0.42274605],\n",
       "       [0.93839359, 0.06160641],\n",
       "       [0.98309774, 0.01690226],\n",
       "       [0.48988092, 0.51011908],\n",
       "       [0.23425774, 0.76574226],\n",
       "       [0.82635536, 0.17364464],\n",
       "       [0.56735331, 0.43264669],\n",
       "       [0.32175882, 0.67824118],\n",
       "       [0.93183397, 0.06816603],\n",
       "       [0.05246365, 0.94753635],\n",
       "       [0.49464361, 0.50535639],\n",
       "       [0.0630875 , 0.9369125 ],\n",
       "       [0.37540641, 0.62459359],\n",
       "       [0.67479199, 0.32520801],\n",
       "       [0.67391299, 0.32608701],\n",
       "       [0.91984894, 0.08015106],\n",
       "       [0.93906518, 0.06093482],\n",
       "       [0.93007141, 0.06992859],\n",
       "       [0.93885152, 0.06114848],\n",
       "       [0.13869959, 0.86130041],\n",
       "       [0.6610796 , 0.3389204 ],\n",
       "       [0.51976525, 0.48023475],\n",
       "       [0.75566311, 0.24433689],\n",
       "       [0.0956296 , 0.9043704 ],\n",
       "       [0.89985877, 0.10014123],\n",
       "       [0.53746086, 0.46253914],\n",
       "       [0.89619778, 0.10380222],\n",
       "       [0.89032964, 0.10967036],\n",
       "       [0.89276801, 0.10723199],\n",
       "       [0.68239897, 0.31760103],\n",
       "       [0.46745324, 0.53254676],\n",
       "       [0.78316174, 0.21683826],\n",
       "       [0.19543401, 0.80456599],\n",
       "       [0.01712593, 0.98287407],\n",
       "       [0.81258153, 0.18741847],\n",
       "       [0.48427066, 0.51572934],\n",
       "       [0.93245425, 0.06754575],\n",
       "       [0.52563069, 0.47436931],\n",
       "       [0.30641525, 0.69358475],\n",
       "       [0.96390814, 0.03609186],\n",
       "       [0.97436252, 0.02563748],\n",
       "       [0.8063088 , 0.1936912 ],\n",
       "       [0.7448325 , 0.2551675 ],\n",
       "       [0.96786096, 0.03213904],\n",
       "       [0.95629193, 0.04370807],\n",
       "       [0.59547872, 0.40452128],\n",
       "       [0.96293734, 0.03706266],\n",
       "       [0.79778758, 0.20221242],\n",
       "       [0.57874994, 0.42125006],\n",
       "       [0.13843194, 0.86156806],\n",
       "       [0.23119175, 0.76880825],\n",
       "       [0.47006584, 0.52993416],\n",
       "       [0.31561434, 0.68438566],\n",
       "       [0.08231716, 0.91768284],\n",
       "       [0.28315946, 0.71684054],\n",
       "       [0.81733716, 0.18266284],\n",
       "       [0.92449267, 0.07550733],\n",
       "       [0.93061284, 0.06938716],\n",
       "       [0.8329328 , 0.1670672 ],\n",
       "       [0.56051902, 0.43948098],\n",
       "       [0.52680558, 0.47319442],\n",
       "       [0.02516559, 0.97483441],\n",
       "       [0.49710762, 0.50289238],\n",
       "       [0.52787402, 0.47212598],\n",
       "       [0.81805654, 0.18194346],\n",
       "       [0.88493089, 0.11506911],\n",
       "       [0.71415686, 0.28584314],\n",
       "       [0.96682369, 0.03317631],\n",
       "       [0.93058986, 0.06941014],\n",
       "       [0.72739486, 0.27260514],\n",
       "       [0.94935141, 0.05064859],\n",
       "       [0.90922228, 0.09077772],\n",
       "       [0.90572561, 0.09427439],\n",
       "       [0.96031498, 0.03968502],\n",
       "       [0.19980791, 0.80019209],\n",
       "       [0.77379492, 0.22620508],\n",
       "       [0.47456768, 0.52543232],\n",
       "       [0.16988692, 0.83011308],\n",
       "       [0.62126945, 0.37873055],\n",
       "       [0.85054114, 0.14945886],\n",
       "       [0.15282291, 0.84717709],\n",
       "       [0.57345064, 0.42654936],\n",
       "       [0.5704009 , 0.4295991 ],\n",
       "       [0.85427077, 0.14572923],\n",
       "       [0.62472481, 0.37527519],\n",
       "       [0.96084973, 0.03915027],\n",
       "       [0.27573529, 0.72426471],\n",
       "       [0.81589931, 0.18410069],\n",
       "       [0.92666453, 0.07333547],\n",
       "       [0.50909703, 0.49090297],\n",
       "       [0.36620228, 0.63379772],\n",
       "       [0.25569567, 0.74430433],\n",
       "       [0.65103124, 0.34896876],\n",
       "       [0.83710772, 0.16289228],\n",
       "       [0.16585575, 0.83414425],\n",
       "       [0.03712758, 0.96287242],\n",
       "       [0.92559285, 0.07440715],\n",
       "       [0.5244204 , 0.4755796 ],\n",
       "       [0.4835457 , 0.5164543 ],\n",
       "       [0.1498323 , 0.8501677 ],\n",
       "       [0.2072165 , 0.7927835 ],\n",
       "       [0.42556236, 0.57443764],\n",
       "       [0.94265495, 0.05734505],\n",
       "       [0.29470781, 0.70529219],\n",
       "       [0.85591556, 0.14408444],\n",
       "       [0.83196535, 0.16803465],\n",
       "       [0.47890962, 0.52109038],\n",
       "       [0.97078282, 0.02921718],\n",
       "       [0.31531174, 0.68468826],\n",
       "       [0.94246626, 0.05753374],\n",
       "       [0.9973028 , 0.0026972 ],\n",
       "       [0.12703812, 0.87296188],\n",
       "       [0.09681174, 0.90318826],\n",
       "       [0.53979387, 0.46020613],\n",
       "       [0.18007353, 0.81992647],\n",
       "       [0.53083109, 0.46916891],\n",
       "       [0.36399807, 0.63600193],\n",
       "       [0.87020427, 0.12979573],\n",
       "       [0.82924398, 0.17075602],\n",
       "       [0.97663583, 0.02336417],\n",
       "       [0.94668111, 0.05331889],\n",
       "       [0.80814832, 0.19185168],\n",
       "       [0.86764752, 0.13235248],\n",
       "       [0.49830943, 0.50169057],\n",
       "       [0.43499041, 0.56500959],\n",
       "       [0.93951136, 0.06048864],\n",
       "       [0.14790621, 0.85209379],\n",
       "       [0.81002556, 0.18997444],\n",
       "       [0.37030034, 0.62969966],\n",
       "       [0.46162993, 0.53837007],\n",
       "       [0.83583207, 0.16416793],\n",
       "       [0.02236113, 0.97763887],\n",
       "       [0.37726708, 0.62273292],\n",
       "       [0.68020508, 0.31979492],\n",
       "       [0.2029802 , 0.7970198 ],\n",
       "       [0.48042457, 0.51957543],\n",
       "       [0.10589504, 0.89410496],\n",
       "       [0.78950668, 0.21049332],\n",
       "       [0.1221866 , 0.8778134 ],\n",
       "       [0.06195358, 0.93804642]])"
      ]
     },
     "execution_count": 28,
     "metadata": {},
     "output_type": "execute_result"
    }
   ],
   "source": [
    "model.predict_proba(X_test)"
   ]
  },
  {
   "cell_type": "code",
   "execution_count": 29,
   "id": "10fd32c5",
   "metadata": {},
   "outputs": [
    {
     "data": {
      "text/plain": [
       "array([0, 0, 0, 0, 0, 1, 0, 1, 0, 0, 0, 0, 0, 1, 0, 1, 0, 0, 1, 0, 0, 1,\n",
       "       0, 0, 0, 1, 0, 0, 0, 1, 0, 1, 0, 0, 1, 0, 1, 0, 0, 1, 0, 1, 1, 0,\n",
       "       0, 0, 0, 0, 1, 1, 1, 1, 0, 1, 1, 0, 1, 1, 0, 0, 1, 0, 1, 1, 1, 1,\n",
       "       1, 1, 0, 0, 0, 1, 0, 0, 0, 0, 0, 0, 1, 0, 1, 0, 0, 0, 0, 0, 0, 0,\n",
       "       1, 1, 1, 1, 0, 0, 0, 0, 0, 1, 1, 1, 0, 0, 0, 1, 1, 0, 1, 0, 0, 1,\n",
       "       0, 1, 0, 0, 1, 0, 0, 1, 0, 0, 0, 1, 0, 0, 0, 1, 1, 0, 0, 1, 0, 1,\n",
       "       1, 1, 1, 0, 0, 0, 0, 0, 0, 1, 0, 0, 0, 1, 0, 0, 0, 0, 0, 0, 1, 0,\n",
       "       1, 1, 0, 1, 0, 0, 1, 0, 0, 0, 0, 0, 0, 0, 0, 0, 0, 1, 1, 1, 1, 1,\n",
       "       1, 0, 0, 0, 0, 0, 0, 1, 1, 0, 0, 0, 0, 0, 0, 0, 0, 0, 0, 0, 1, 0,\n",
       "       1, 1, 0, 0, 1, 0, 0, 0, 0, 0, 1, 0, 0, 0, 1, 1, 0, 0, 1, 1, 0, 0,\n",
       "       1, 1, 1, 1, 0, 1, 0, 0, 1, 0, 1, 0, 0, 1, 1, 0, 1, 0, 1, 0, 0, 0,\n",
       "       0, 0, 0, 1, 1, 0, 1, 0, 1, 1, 0, 1, 1, 0, 1, 1, 1, 0, 1, 1],\n",
       "      dtype=int64)"
      ]
     },
     "execution_count": 29,
     "metadata": {},
     "output_type": "execute_result"
    }
   ],
   "source": [
    "model.predict(X_test)"
   ]
  },
  {
   "cell_type": "code",
   "execution_count": 46,
   "id": "754b9ba6",
   "metadata": {},
   "outputs": [
    {
     "name": "stdout",
     "output_type": "stream",
     "text": [
      "Precision: 0.5742574257425742\n",
      "Recall: 0.7945205479452054\n"
     ]
    }
   ],
   "source": [
    "# 从正类，计算精确率和召回率\n",
    "precision = precision_score(y_test, y_pred_test,pos_label=1)\n",
    "recall = recall_score(y_test, y_pred_test,pos_label=1)\n",
    "\n",
    "print(f\"Precision: {precision}\")\n",
    "print(f\"Recall: {recall}\")"
   ]
  },
  {
   "cell_type": "markdown",
   "id": "95adb8b3",
   "metadata": {},
   "source": [
    "### 绘制 PR 曲线"
   ]
  },
  {
   "cell_type": "code",
   "execution_count": 32,
   "id": "f2e72b74",
   "metadata": {},
   "outputs": [
    {
     "data": {
      "text/plain": [
       "Text(0, 0.5, 'precision')"
      ]
     },
     "execution_count": 32,
     "metadata": {},
     "output_type": "execute_result"
    },
    {
     "data": {
      "image/png": "[encoded data removed]",
      "text/plain": [
       "<Figure size 432x288 with 1 Axes>"
      ]
     },
     "metadata": {
      "needs_background": "light"
     },
     "output_type": "display_data"
    }
   ],
   "source": [
    "probs=model.predict_proba(X_test)[:,0]\n",
    "precision,recall,thresholds=precision_recall_curve(y_test,probs,pos_label=0)\n",
    "plt.plot(recall,precision)\n",
    "plt.title(\"Precision-Recall Curve\")\n",
    "plt.xlabel(\"recall\")\n",
    "plt.ylabel(\"precision\")"
   ]
  },
  {
   "cell_type": "code",
   "execution_count": 33,
   "id": "be23d16a",
   "metadata": {},
   "outputs": [
    {
     "data": {
      "text/html": [
       "<div>\n",
       "<style scoped>\n",
       "    .dataframe tbody tr th:only-of-type {\n",
       "        vertical-align: middle;\n",
       "    }\n",
       "\n",
       "    .dataframe tbody tr th {\n",
       "        vertical-align: top;\n",
       "    }\n",
       "\n",
       "    .dataframe thead th {\n",
       "        text-align: right;\n",
       "    }\n",
       "</style>\n",
       "<table border=\"1\" class=\"dataframe\">\n",
       "  <thead>\n",
       "    <tr style=\"text-align: right;\">\n",
       "      <th></th>\n",
       "      <th>0</th>\n",
       "      <th>1</th>\n",
       "      <th>2</th>\n",
       "      <th>3</th>\n",
       "      <th>4</th>\n",
       "      <th>5</th>\n",
       "      <th>6</th>\n",
       "      <th>7</th>\n",
       "      <th>8</th>\n",
       "      <th>9</th>\n",
       "      <th>...</th>\n",
       "      <th>251</th>\n",
       "      <th>252</th>\n",
       "      <th>253</th>\n",
       "      <th>254</th>\n",
       "      <th>255</th>\n",
       "      <th>256</th>\n",
       "      <th>257</th>\n",
       "      <th>258</th>\n",
       "      <th>259</th>\n",
       "      <th>260</th>\n",
       "    </tr>\n",
       "  </thead>\n",
       "  <tbody>\n",
       "    <tr>\n",
       "      <th>0</th>\n",
       "      <td>0.726923</td>\n",
       "      <td>0.725869</td>\n",
       "      <td>0.728682</td>\n",
       "      <td>0.731518</td>\n",
       "      <td>0.734375</td>\n",
       "      <td>0.737255</td>\n",
       "      <td>0.740157</td>\n",
       "      <td>0.743083</td>\n",
       "      <td>0.742063</td>\n",
       "      <td>0.745020</td>\n",
       "      <td>...</td>\n",
       "      <td>1.000000</td>\n",
       "      <td>1.000000</td>\n",
       "      <td>1.000000</td>\n",
       "      <td>1.000000</td>\n",
       "      <td>1.000000</td>\n",
       "      <td>1.000000</td>\n",
       "      <td>1.000000</td>\n",
       "      <td>1.000000</td>\n",
       "      <td>1.000000</td>\n",
       "      <td>1.0</td>\n",
       "    </tr>\n",
       "    <tr>\n",
       "      <th>1</th>\n",
       "      <td>1.000000</td>\n",
       "      <td>0.994709</td>\n",
       "      <td>0.994709</td>\n",
       "      <td>0.994709</td>\n",
       "      <td>0.994709</td>\n",
       "      <td>0.994709</td>\n",
       "      <td>0.994709</td>\n",
       "      <td>0.994709</td>\n",
       "      <td>0.989418</td>\n",
       "      <td>0.989418</td>\n",
       "      <td>...</td>\n",
       "      <td>0.047619</td>\n",
       "      <td>0.042328</td>\n",
       "      <td>0.037037</td>\n",
       "      <td>0.031746</td>\n",
       "      <td>0.026455</td>\n",
       "      <td>0.021164</td>\n",
       "      <td>0.015873</td>\n",
       "      <td>0.010582</td>\n",
       "      <td>0.005291</td>\n",
       "      <td>0.0</td>\n",
       "    </tr>\n",
       "    <tr>\n",
       "      <th>2</th>\n",
       "      <td>0.022361</td>\n",
       "      <td>0.025166</td>\n",
       "      <td>0.029057</td>\n",
       "      <td>0.031206</td>\n",
       "      <td>0.031355</td>\n",
       "      <td>0.037128</td>\n",
       "      <td>0.052464</td>\n",
       "      <td>0.061954</td>\n",
       "      <td>0.063087</td>\n",
       "      <td>0.063690</td>\n",
       "      <td>...</td>\n",
       "      <td>0.970771</td>\n",
       "      <td>0.970783</td>\n",
       "      <td>0.972835</td>\n",
       "      <td>0.974363</td>\n",
       "      <td>0.975473</td>\n",
       "      <td>0.976636</td>\n",
       "      <td>0.983098</td>\n",
       "      <td>0.991933</td>\n",
       "      <td>0.997303</td>\n",
       "      <td>NaN</td>\n",
       "    </tr>\n",
       "  </tbody>\n",
       "</table>\n",
       "<p>3 rows × 261 columns</p>\n",
       "</div>"
      ],
      "text/plain": [
       "        0         1         2         3         4         5         6    \\\n",
       "0  0.726923  0.725869  0.728682  0.731518  0.734375  0.737255  0.740157   \n",
       "1  1.000000  0.994709  0.994709  0.994709  0.994709  0.994709  0.994709   \n",
       "2  0.022361  0.025166  0.029057  0.031206  0.031355  0.037128  0.052464   \n",
       "\n",
       "        7         8         9    ...       251       252       253       254  \\\n",
       "0  0.743083  0.742063  0.745020  ...  1.000000  1.000000  1.000000  1.000000   \n",
       "1  0.994709  0.989418  0.989418  ...  0.047619  0.042328  0.037037  0.031746   \n",
       "2  0.061954  0.063087  0.063690  ...  0.970771  0.970783  0.972835  0.974363   \n",
       "\n",
       "        255       256       257       258       259  260  \n",
       "0  1.000000  1.000000  1.000000  1.000000  1.000000  1.0  \n",
       "1  0.026455  0.021164  0.015873  0.010582  0.005291  0.0  \n",
       "2  0.975473  0.976636  0.983098  0.991933  0.997303  NaN  \n",
       "\n",
       "[3 rows x 261 columns]"
      ]
     },
     "execution_count": 33,
     "metadata": {},
     "output_type": "execute_result"
    }
   ],
   "source": [
    "pd.DataFrame([precision,recall,thresholds])"
   ]
  },
  {
   "cell_type": "markdown",
   "id": "62d229c2",
   "metadata": {},
   "source": [
    "### 绘制 ROC 曲线"
   ]
  },
  {
   "cell_type": "code",
   "execution_count": 34,
   "id": "0095bd51",
   "metadata": {},
   "outputs": [
    {
     "data": {
      "image/png": "[encoded data removed]",
      "text/plain": [
       "<Figure size 432x288 with 1 Axes>"
      ]
     },
     "metadata": {
      "needs_background": "light"
     },
     "output_type": "display_data"
    }
   ],
   "source": [
    "probs=model.predict_proba(X_test)[:,1]\n",
    "fpr,tpr,thresholds=roc_curve(y_test,probs,pos_label=1)\n",
    "roc_auc = auc(fpr, tpr)\n",
    "plt.plot(fpr,tpr, label=f'ROC curve (area = {roc_auc:.2f})')\n",
    "plt.plot([0, 1], [0, 1], linestyle='--')\n",
    "plt.title(\"roc_curve\")\n",
    "plt.xlabel(\"fpr\")\n",
    "plt.ylabel(\"tpr\")\n",
    "plt.legend(loc='lower right')\n",
    "plt.show()"
   ]
  },
  {
   "cell_type": "code",
   "execution_count": null,
   "id": "c5897fb1",
   "metadata": {},
   "outputs": [],
   "source": []
  }
 ],
 "metadata": {
  "kernelspec": {
   "display_name": "Python 3 (ipykernel)",
   "language": "python",
   "name": "python3"
  },
  "language_info": {
   "codemirror_mode": {
    "name": "ipython",
    "version": 3
   },
   "file_extension": ".py",
   "mimetype": "text/x-python",
   "name": "python",
   "nbconvert_exporter": "python",
   "pygments_lexer": "ipython3",
   "version": "3.9.7"
  }
 },
 "nbformat": 4,
 "nbformat_minor": 5
}
